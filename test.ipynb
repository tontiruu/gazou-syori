{
 "cells": [
  {
   "cell_type": "code",
   "execution_count": 4,
   "metadata": {},
   "outputs": [
    {
     "name": "stdout",
     "output_type": "stream",
     "text": [
      "幸せでできた、人生を生成します\n",
      "\n",
      "Image collecting ...\n",
      " Image collection is complete! \n",
      "resize Done\n",
      "\n",
      "\n",
      "Generating image ...\n"
     ]
    },
    {
     "name": "stderr",
     "output_type": "stream",
     "text": [
      " 16%|█▋        | 52/320 [00:04<00:21, 12.64it/s]\n"
     ]
    },
    {
     "ename": "KeyboardInterrupt",
     "evalue": "",
     "output_type": "error",
     "traceback": [
      "\u001b[0;31m---------------------------------------------------------------------------\u001b[0m",
      "\u001b[0;31mKeyboardInterrupt\u001b[0m                         Traceback (most recent call last)",
      "Cell \u001b[0;32mIn[4], line 3\u001b[0m\n\u001b[1;32m      1\u001b[0m \u001b[38;5;28;01mfrom\u001b[39;00m \u001b[38;5;21;01mmain_process\u001b[39;00m \u001b[38;5;28;01mimport\u001b[39;00m create_image\n\u001b[0;32m----> 3\u001b[0m \u001b[43mcreate_image\u001b[49m\u001b[43m(\u001b[49m\u001b[43mmaterial_word\u001b[49m\u001b[38;5;241;43m=\u001b[39;49m\u001b[38;5;124;43m\"\u001b[39;49m\u001b[38;5;124;43m幸せ\u001b[39;49m\u001b[38;5;124;43m\"\u001b[39;49m\u001b[43m,\u001b[49m\u001b[43m \u001b[49m\u001b[43mtarget_word\u001b[49m\u001b[38;5;241;43m=\u001b[39;49m\u001b[38;5;124;43m\"\u001b[39;49m\u001b[38;5;124;43m人生\u001b[39;49m\u001b[38;5;124;43m\"\u001b[39;49m\u001b[43m,\u001b[49m\u001b[43m \u001b[49m\u001b[43mtarget_resize_rate\u001b[49m\u001b[38;5;241;43m=\u001b[39;49m\u001b[38;5;241;43m0.4\u001b[39;49m\u001b[43m)\u001b[49m\n",
      "File \u001b[0;32m~/Documents/GitHub/gazou-syori/main_process.py:21\u001b[0m, in \u001b[0;36mcreate_image\u001b[0;34m(material_word, target_word, material_max_nums, material_img_size, target_resize_rate)\u001b[0m\n\u001b[1;32m     19\u001b[0m \u001b[38;5;28mprint\u001b[39m(\u001b[38;5;124m\"\u001b[39m\u001b[38;5;130;01m\\n\u001b[39;00m\u001b[38;5;130;01m\\n\u001b[39;00m\u001b[38;5;124mGenerating image ...\u001b[39m\u001b[38;5;124m\"\u001b[39m)\n\u001b[1;32m     20\u001b[0m color_palette: util\u001b[38;5;241m.\u001b[39mMaterialMeanColor \u001b[38;5;241m=\u001b[39m util\u001b[38;5;241m.\u001b[39mparse_materials_mean_color()\n\u001b[0;32m---> 21\u001b[0m \u001b[43mutil\u001b[49m\u001b[38;5;241;43m.\u001b[39;49m\u001b[43mcreate_mosaic_image\u001b[49m\u001b[43m(\u001b[49m\n\u001b[1;32m     22\u001b[0m \u001b[43m    \u001b[49m\u001b[38;5;124;43m\"\u001b[39;49m\u001b[38;5;124;43mconvert_images/000001.jpg\u001b[39;49m\u001b[38;5;124;43m\"\u001b[39;49m\u001b[43m,\u001b[49m\n\u001b[1;32m     23\u001b[0m \u001b[43m    \u001b[49m\u001b[43mcolor_palette\u001b[49m\u001b[38;5;241;43m=\u001b[39;49m\u001b[43mcolor_palette\u001b[49m\u001b[43m,\u001b[49m\n\u001b[1;32m     24\u001b[0m \u001b[43m    \u001b[49m\u001b[43mresize_rate\u001b[49m\u001b[38;5;241;43m=\u001b[39;49m\u001b[43mtarget_resize_rate\u001b[49m\u001b[43m,\u001b[49m\n\u001b[1;32m     25\u001b[0m \u001b[43m\u001b[49m\u001b[43m)\u001b[49m\n\u001b[1;32m     26\u001b[0m \u001b[38;5;28mprint\u001b[39m(\u001b[38;5;124m\"\u001b[39m\u001b[38;5;130;01m\\n\u001b[39;00m\u001b[38;5;124mDone!\u001b[39m\u001b[38;5;124m\"\u001b[39m)\n",
      "File \u001b[0;32m~/Documents/GitHub/gazou-syori/image_processing/util.py:73\u001b[0m, in \u001b[0;36mcreate_mosaic_image\u001b[0;34m(origin_img_path, color_palette, resize_rate)\u001b[0m\n\u001b[1;32m     71\u001b[0m         output_img_row \u001b[38;5;241m=\u001b[39m color_palette\u001b[38;5;241m.\u001b[39mimgs[use_palette_index]\n\u001b[1;32m     72\u001b[0m     \u001b[38;5;28;01melse\u001b[39;00m:\n\u001b[0;32m---> 73\u001b[0m         output_img_row \u001b[38;5;241m=\u001b[39m \u001b[43mnp\u001b[49m\u001b[38;5;241;43m.\u001b[39;49m\u001b[43mconcat\u001b[49m\u001b[43m(\u001b[49m\n\u001b[1;32m     74\u001b[0m \u001b[43m            \u001b[49m\u001b[43m[\u001b[49m\u001b[43moutput_img_row\u001b[49m\u001b[43m,\u001b[49m\u001b[43m \u001b[49m\u001b[43mcolor_palette\u001b[49m\u001b[38;5;241;43m.\u001b[39;49m\u001b[43mimgs\u001b[49m\u001b[43m[\u001b[49m\u001b[43muse_palette_index\u001b[49m\u001b[43m]\u001b[49m\u001b[43m]\u001b[49m\u001b[43m,\u001b[49m\u001b[43m \u001b[49m\u001b[43maxis\u001b[49m\u001b[38;5;241;43m=\u001b[39;49m\u001b[38;5;241;43m1\u001b[39;49m\n\u001b[1;32m     75\u001b[0m \u001b[43m        \u001b[49m\u001b[43m)\u001b[49m\n\u001b[1;32m     76\u001b[0m \u001b[38;5;28;01mif\u001b[39;00m output_img \u001b[38;5;129;01mis\u001b[39;00m \u001b[38;5;28;01mNone\u001b[39;00m:\n\u001b[1;32m     77\u001b[0m     output_img \u001b[38;5;241m=\u001b[39m output_img_row\n",
      "\u001b[0;31mKeyboardInterrupt\u001b[0m: "
     ]
    }
   ],
   "source": [
    "from main_process import create_image\n",
    "\n",
    "create_image(material_word=\"幸せ\", target_word=\"人生\", target_resize_rate=0.1)"
   ]
  },
  {
   "cell_type": "code",
   "execution_count": 8,
   "metadata": {},
   "outputs": [
    {
     "name": "stderr",
     "output_type": "stream",
     "text": [
      "2024-07-18 22:32:22,853 - INFO - icrawler.crawler - start crawling...\n",
      "2024-07-18 22:32:22,854 - INFO - icrawler.crawler - starting 1 feeder threads...\n"
     ]
    },
    {
     "name": "stderr",
     "output_type": "stream",
     "text": [
      "2024-07-18 22:32:22,857 - INFO - feeder - thread feeder-001 exit\n",
      "2024-07-18 22:32:22,859 - INFO - icrawler.crawler - starting 1 parser threads...\n",
      "2024-07-18 22:32:22,863 - INFO - icrawler.crawler - starting 4 downloader threads...\n",
      "2024-07-18 22:32:23,220 - INFO - parser - parsing result page https://www.bing.com/images/async?q=大谷　ドジャース&first=0\n",
      "2024-07-18 22:32:23,454 - INFO - downloader - image #1\thttps://hochi.news/images/2023/12/12/20231212-OHT1I51069-L.jpg\n",
      "2024-07-18 22:32:23,606 - INFO - downloader - image #2\thttps://www.sponichi.co.jp/baseball/news/2023/12/31/jpeg/20240101s00001007118000p_view.jpg\n",
      "2024-07-18 22:32:23,721 - INFO - downloader - image #3\thttps://nobita-retire.com/wp-content/uploads/2022/07/大谷ドジャースユニフォーム.jpg\n",
      "2024-07-18 22:32:23,843 - INFO - downloader - image #4\thttps://livedoor.blogimg.jp/yellow2014/imgs/4/d/4d457548.jpg\n",
      "2024-07-18 22:32:23,907 - INFO - downloader - image #5\thttps://jprime.ismcdn.jp/mwimgs/0/1/1200mw/img_0127d2b1566e0db8408359006882f324103345.jpg\n",
      "2024-07-18 22:32:24,024 - INFO - downloader - image #6\thttps://www.nikkansports.com/baseball/mlb/news/img/202312100001279-w1300_1.jpg\n",
      "2024-07-18 22:32:24,049 - INFO - downloader - image #7\thttps://www.nikkansports.com/baseball/mlb/news/img/202312170001060-w1300_0.jpg\n",
      "2024-07-18 22:32:24,157 - INFO - downloader - image #8\thttps://www.nikkansports.com/baseball/mlb/news/img/202401030000422-w1300_0.jpg\n",
      "2024-07-18 22:32:24,376 - INFO - downloader - image #9\thttps://newsdig.ismcdn.jp/mwimgs/f/a/-/img_faa86dbc97746728897dae88b2ef4e5e157534.jpg\n",
      "2024-07-18 22:32:24,482 - INFO - downloader - image #10\thttps://static.chunichi.co.jp/image/article/size1/b/4/1/1/b411bfd05b16028f6392500d929d2579_1.jpg\n",
      "2024-07-18 22:32:24,506 - INFO - downloader - image #11\thttps://www.sponichi.co.jp/baseball/news/2023/12/15/jpeg/20231215s00001007146000p_view.jpg\n",
      "2024-07-18 22:32:24,570 - INFO - downloader - image #12\thttps://www3.nhk.or.jp/news/html/20231212/K10014285631_2312121156_1212115703_01_02.jpg\n",
      "2024-07-18 22:32:24,586 - INFO - downloader - image #13\thttps://hochi.news/images/2024/02/28/20240228-OHT1I51027-L.jpg\n",
      "2024-07-18 22:32:24,709 - INFO - downloader - image #14\thttps://www.nikkansports.com/baseball/mlb/news/img/202306220000484-w500_0.jpg\n",
      "2024-07-18 22:32:24,874 - INFO - downloader - image #15\thttps://www.sponichi.co.jp/baseball/news/2023/12/23/jpeg/20231223s00001007098000p_view.jpg\n",
      "2024-07-18 22:32:24,878 - INFO - downloader - image #16\thttps://i.daily.jp/mlb/2023/06/22/Images/f_16502488.jpg\n",
      "2024-07-18 22:32:24,900 - INFO - downloader - image #17\thttps://static.chunichi.co.jp/image/article/size1/e/a/c/9/eac9d93a52f87b5ecdf8130a174fadfb_1.jpg\n",
      "2024-07-18 22:32:24,903 - INFO - downloader - image #18\thttps://www.nikkansports.com/baseball/mlb/news/img/202306220000253-w1300_0.jpg\n",
      "2024-07-18 22:32:25,008 - INFO - downloader - image #19\thttps://www.nikkansports.com/baseball/mlb/news/img/202312260000513-w1300_0.jpg\n",
      "2024-07-18 22:32:25,021 - INFO - downloader - image #20\thttps://newsdig.ismcdn.jp/mwimgs/a/c/-/img_ac9218014bedd91f6eaa51351e3f9e06187941.jpg\n",
      "2024-07-18 22:32:25,161 - INFO - downloader - image #21\thttps://www.nikkansports.com/baseball/mlb/news/img/202312100001279-w1300_7.jpg\n",
      "2024-07-18 22:32:25,167 - INFO - downloader - image #22\thttps://cdn.mainichi.jp/vol1/2023/12/15/20231215k0000m050040000p/9.jpg\n",
      "2024-07-18 22:32:25,195 - INFO - downloader - image #23\thttps://static.tokyo-np.co.jp/image/article/size1/0/4/7/5/0475b003019cb3b38150de3cf9cf0bdc_1.jpg\n",
      "2024-07-18 22:32:25,249 - INFO - downloader - image #24\thttps://image.news.livedoor.com/newsimage/stf/0/f/0f2f5_1424_4a2306a1_430c0a4b.jpg\n",
      "2024-07-18 22:32:25,264 - INFO - downloader - image #25\thttps://full-count.jp/wp-content/uploads/2022/12/18175110/20221218_ohtani_ge.jpg\n",
      "2024-07-18 22:32:25,282 - INFO - downloader - image #26\thttps://static.chunichi.co.jp/image/article/size1/0/e/e/d/0eed13dc8532c760c8cb8555ac6222db_1.jpg\n",
      "2024-07-18 22:32:25,328 - INFO - downloader - image #27\thttps://static.chunichi.co.jp/image/article/size1/a/d/8/f/ad8f5bdb4d3ab9eb4ef2de9824bd9673_1.jpg\n",
      "2024-07-18 22:32:25,404 - INFO - downloader - image #28\thttps://static.chunichi.co.jp/image/article/size1/9/6/3/7/9637a136f77151787026fee6e03a02bd_1.jpg\n",
      "2024-07-18 22:32:25,407 - INFO - downloader - image #29\thttps://news.ntv.co.jp/gimage/n24/articles/4c98af544a7544aea2f5692878a41106/20231210-051826-853-ch02-06-e8f612dc-1.jpg\n",
      "2024-07-18 22:32:25,452 - INFO - downloader - image #30\thttps://full-count.jp/wp-content/uploads/2022/12/31110505/20221231_ohtani_betts_reu_ge.jpg\n",
      "2024-07-18 22:32:25,483 - INFO - downloader - image #31\thttps://full-count.jp/wp-content/uploads/2018/07/20180706_maeda_ohtani_gi.jpg\n",
      "2024-07-18 22:32:25,504 - INFO - parser - parsing result page https://www.bing.com/images/async?q=大谷　ドジャース&first=20\n",
      "2024-07-18 22:32:25,599 - INFO - downloader - image #32\thttps://www.nikkansports.com/baseball/mlb/column/showtime/news/img/202312100000959-w1300_0.jpg\n",
      "2024-07-18 22:32:25,605 - INFO - downloader - image #33\thttps://www.nikkansports.com/baseball/mlb/news/img/202312150000129-w1300_0.jpg\n",
      "2024-07-18 22:32:25,633 - INFO - downloader - image #34\thttps://spread-sports.jp/wp/wp-content/uploads/2023/12/1702596042-972630449.jpg\n",
      "2024-07-18 22:32:25,639 - INFO - downloader - image #35\thttps://full-count.jp/wp-content/uploads/2023/06/22130051/20230622_ohtani_ge.jpg\n",
      "2024-07-18 22:32:25,667 - INFO - downloader - image #36\thttps://jprime.ismcdn.jp/mwimgs/0/1/320mw/img_0127d2b1566e0db8408359006882f324103345.jpg\n",
      "2024-07-18 22:32:25,724 - INFO - downloader - image #37\thttps://www.nikkansports.com/baseball/mlb/news/img/202207140000576-w1300_8.jpg\n",
      "2024-07-18 22:32:25,756 - INFO - downloader - image #38\thttps://i.pinimg.com/736x/79/6f/0e/796f0e773c794db4878708cc6659c589.jpg\n",
      "2024-07-18 22:32:25,758 - INFO - downloader - image #39\thttps://i.daily.jp/mlb/2023/12/15/Images/f_17132845.jpg\n",
      "2024-07-18 22:32:25,770 - INFO - downloader - image #40\thttps://spread-sports.jp/wp/wp-content/uploads/2023/12/1703491039-1938651661.jpg\n",
      "2024-07-18 22:32:25,827 - INFO - parser - parsing result page https://www.bing.com/images/async?q=大谷　ドジャース&first=40\n",
      "2024-07-18 22:32:25,861 - INFO - downloader - image #41\thttps://spread-sports.jp/wp/wp-content/uploads/2023/07/1688877989-763923850.jpg\n",
      "2024-07-18 22:32:25,938 - INFO - downloader - image #42\thttps://www.sponichi.co.jp/baseball/news/2023/12/15/jpeg/20231215s00001007087000p_view.jpg\n",
      "2024-07-18 22:32:25,966 - INFO - downloader - image #43\thttps://image.news.livedoor.com/newsimage/stf/0/1/01b26_1588_8c3569dd_85bc12f0.jpg\n",
      "2024-07-18 22:32:26,026 - INFO - downloader - image #44\thttps://baseball.sports.smt.docomo.ne.jp/mlb/img/japanese/727378.jpg\n",
      "2024-07-18 22:32:26,072 - INFO - downloader - image #45\thttps://static.chunichi.co.jp/image/article/size1/2/e/e/9/2ee97b62aa76fdae2ec37515763993d7_1.jpg\n",
      "2024-07-18 22:32:26,148 - INFO - downloader - image #46\thttps://hochi.news/images/2023/12/15/20231215-OHT1I51097-L.jpg\n",
      "2024-07-18 22:32:26,152 - INFO - downloader - image #47\thttps://www.iwanichi.co.jp/wp-content/uploads/post/202312/PICKH20231216_M000100020A200005.jpg\n",
      "2024-07-18 22:32:26,155 - INFO - downloader - image #48\thttps://image.news.livedoor.com/newsimage/stf/0/8/08d3d_300_c5c7643b_6de8ab3f.jpg\n",
      "2024-07-18 22:32:26,208 - INFO - downloader - image #49\thttps://www.nikkansports.com/baseball/mlb/news/img/202108080000667-w1300_1.jpg\n",
      "2024-07-18 22:32:26,241 - INFO - downloader - image #50\thttps://image-cdn.hypb.st/https://jp.hypebeast.com/files/2023/12/mlb-shohei-ohtani-los-angeles-dodgers-jersey-pre-order-available-announcement-004.jpg\n",
      "2024-07-18 22:32:26,255 - INFO - downloader - downloaded images reach max num, thread downloader-002 is ready to exit\n",
      "2024-07-18 22:32:26,255 - INFO - downloader - thread downloader-002 exit\n",
      "2024-07-18 22:32:26,287 - INFO - downloader - downloaded images reach max num, thread downloader-003 is ready to exit\n",
      "2024-07-18 22:32:26,288 - INFO - downloader - thread downloader-003 exit\n",
      "2024-07-18 22:32:26,291 - INFO - downloader - downloaded images reach max num, thread downloader-004 is ready to exit\n",
      "2024-07-18 22:32:26,291 - INFO - downloader - thread downloader-004 exit\n",
      "2024-07-18 22:32:26,357 - INFO - downloader - downloaded images reach max num, thread downloader-001 is ready to exit\n",
      "2024-07-18 22:32:26,358 - INFO - downloader - thread downloader-001 exit\n",
      "2024-07-18 22:32:26,885 - INFO - icrawler.crawler - Crawling task done!\n"
     ]
    },
    {
     "name": "stdout",
     "output_type": "stream",
     "text": [
      "Done\n"
     ]
    },
    {
     "name": "stderr",
     "output_type": "stream",
     "text": [
      "2024-07-18 22:32:28,247 - INFO - parser - no more page urls for thread parser-001 to parse\n",
      "2024-07-18 22:32:28,248 - INFO - parser - thread parser-001 exit\n"
     ]
    }
   ],
   "source": [
    "import cv2\n",
    "\n",
    "from scryping.image_crawler import scrape_img\n",
    "\n",
    "scrape_img(keyword=\"大谷　ドジャース\", max_num=50, path=\"color_materials\")"
   ]
  },
  {
   "cell_type": "code",
   "execution_count": 9,
   "metadata": {},
   "outputs": [
    {
     "name": "stdout",
     "output_type": "stream",
     "text": [
      "resize Done\n"
     ]
    }
   ],
   "source": [
    "from image_processing import util\n",
    "\n",
    "util.resize_image_in_dir(\"color_materials\", size=40)"
   ]
  },
  {
   "cell_type": "code",
   "execution_count": 10,
   "metadata": {},
   "outputs": [
    {
     "name": "stderr",
     "output_type": "stream",
     "text": [
      "2024-07-18 22:32:45,775 - INFO - icrawler.crawler - start crawling...\n",
      "2024-07-18 22:32:45,777 - INFO - icrawler.crawler - starting 1 feeder threads...\n",
      "2024-07-18 22:32:45,778 - INFO - feeder - thread feeder-001 exit\n",
      "2024-07-18 22:32:45,778 - INFO - icrawler.crawler - starting 1 parser threads...\n",
      "2024-07-18 22:32:45,779 - INFO - icrawler.crawler - starting 4 downloader threads...\n",
      "2024-07-18 22:32:46,173 - INFO - parser - parsing result page https://www.bing.com/images/async?q=上智大学&first=0\n",
      "2024-07-18 22:32:46,971 - INFO - downloader - image #1\thttps://adm.sophia.ac.jp/assets/uploads/sites/2/2022/12/bb51b6821b68dbf4c901e561fa3e705b-1024x687.jpg\n",
      "2024-07-18 22:32:47,289 - INFO - downloader - image #2\thttps://www.wasedajuku.com/sns/uploadImages/ArticleImages/6f2390d007f629282f9caa73325d51718a715e0bd89d6972958e1e66b8ff9b2920230116184539.jpg\n",
      "2024-07-18 22:32:47,297 - INFO - downloader - image #3\thttps://www.sophia.ac.jp/assets/uploads/2022/11/学部一覧_pc.jpg\n",
      "2024-07-18 22:32:47,326 - INFO - downloader - image #4\thttps://www.tokyo12univ.com/wp-content/uploads/2021/04/sophia_gaikan-2.jpg\n",
      "2024-07-18 22:32:47,557 - INFO - downloader - downloaded images reach max num, thread downloader-001 is ready to exit\n",
      "2024-07-18 22:32:47,557 - INFO - downloader - thread downloader-001 exit\n",
      "2024-07-18 22:32:47,701 - INFO - downloader - downloaded images reach max num, thread downloader-002 is ready to exit\n",
      "2024-07-18 22:32:47,701 - INFO - downloader - thread downloader-002 exit\n",
      "2024-07-18 22:32:47,763 - INFO - downloader - downloaded images reach max num, thread downloader-004 is ready to exit\n",
      "2024-07-18 22:32:47,763 - INFO - downloader - thread downloader-004 exit\n",
      "2024-07-18 22:32:47,796 - INFO - downloader - downloaded images reach max num, thread downloader-003 is ready to exit\n",
      "2024-07-18 22:32:47,796 - INFO - downloader - thread downloader-003 exit\n",
      "2024-07-18 22:32:48,796 - INFO - icrawler.crawler - Crawling task done!\n"
     ]
    },
    {
     "name": "stdout",
     "output_type": "stream",
     "text": [
      "Done\n",
      "resize Done\n"
     ]
    },
    {
     "name": "stderr",
     "output_type": "stream",
     "text": [
      "2024-07-18 22:32:49,338 - INFO - parser - downloaded image reached max num, thread parser-001 is ready to exit\n",
      "2024-07-18 22:32:49,339 - INFO - parser - thread parser-001 exit\n"
     ]
    }
   ],
   "source": []
  },
  {
   "cell_type": "code",
   "execution_count": 2,
   "metadata": {},
   "outputs": [],
   "source": [
    "from image_processing import util\n",
    "\n",
    "color_palette: util.MaterialMeanColor = util.parse_materials_mean_color()\n",
    "\n",
    "util.create_mosaic_image(\"convert_images/000001.jpg\", color_palette=color_palette)"
   ]
  },
  {
   "cell_type": "code",
   "execution_count": 6,
   "metadata": {},
   "outputs": [
    {
     "data": {
      "text/plain": [
       "array([ 8., 10.,  4.])"
      ]
     },
     "execution_count": 6,
     "metadata": {},
     "output_type": "execute_result"
    }
   ],
   "source": [
    "import numpy as np\n",
    "\n",
    "a = np.array([0, 0, 0])\n",
    "a += np.array([40, 50, 20])\n",
    "a\n",
    "a = a / 5\n",
    "a"
   ]
  },
  {
   "cell_type": "code",
   "execution_count": 10,
   "metadata": {},
   "outputs": [
    {
     "data": {
      "text/plain": [
       "[5, 2]"
      ]
     },
     "execution_count": 10,
     "metadata": {},
     "output_type": "execute_result"
    }
   ],
   "source": [
    "from pydantic import BaseModel\n",
    "\n",
    "\n",
    "class A(BaseModel):\n",
    "    a: list\n",
    "    b: list\n",
    "\n",
    "\n",
    "data = A(a=[5, 2], b=[2, 4])\n",
    "data."
   ]
  },
  {
   "cell_type": "code",
   "execution_count": 38,
   "metadata": {},
   "outputs": [
    {
     "ename": "ValueError",
     "evalue": "all the input arrays must have same number of dimensions, but the array at index 0 has 3 dimension(s) and the array at index 1 has 0 dimension(s)",
     "output_type": "error",
     "traceback": [
      "\u001b[0;31m---------------------------------------------------------------------------\u001b[0m",
      "\u001b[0;31mValueError\u001b[0m                                Traceback (most recent call last)",
      "Cell \u001b[0;32mIn[38], line 8\u001b[0m\n\u001b[1;32m      5\u001b[0m b \u001b[38;5;241m=\u001b[39m [\u001b[38;5;241m5\u001b[39m, \u001b[38;5;241m2\u001b[39m, \u001b[38;5;241m3\u001b[39m]\n\u001b[1;32m      6\u001b[0m b \u001b[38;5;241m=\u001b[39m np\u001b[38;5;241m.\u001b[39marray(b)\n\u001b[0;32m----> 8\u001b[0m c \u001b[38;5;241m=\u001b[39m \u001b[43mnp\u001b[49m\u001b[38;5;241;43m.\u001b[39;49m\u001b[43mconcat\u001b[49m\u001b[43m(\u001b[49m\u001b[43m[\u001b[49m\u001b[43ma\u001b[49m\u001b[43m,\u001b[49m\u001b[43m \u001b[49m\u001b[38;5;28;43;01mNone\u001b[39;49;00m\u001b[43m,\u001b[49m\u001b[43m \u001b[49m\u001b[43ma\u001b[49m\u001b[43m,\u001b[49m\u001b[43m \u001b[49m\u001b[43ma\u001b[49m\u001b[43m]\u001b[49m\u001b[43m,\u001b[49m\u001b[43m \u001b[49m\u001b[43maxis\u001b[49m\u001b[38;5;241;43m=\u001b[39;49m\u001b[38;5;241;43m1\u001b[39;49m\u001b[43m)\u001b[49m\n\u001b[1;32m      9\u001b[0m d \u001b[38;5;241m=\u001b[39m np\u001b[38;5;241m.\u001b[39mconcat([c, c, c], axis\u001b[38;5;241m=\u001b[39m\u001b[38;5;241m0\u001b[39m)\n\u001b[1;32m     10\u001b[0m d\n",
      "\u001b[0;31mValueError\u001b[0m: all the input arrays must have same number of dimensions, but the array at index 0 has 3 dimension(s) and the array at index 1 has 0 dimension(s)"
     ]
    }
   ],
   "source": [
    "import numpy as np\n",
    "\n",
    "a = [[[1, 4, 3], [2, 4, 5]], [[2, 2, 2], [2, 4, 5]]]\n",
    "a = np.array(a)\n",
    "b = [5, 2, 3]\n",
    "b = np.array(b)\n",
    "\n",
    "c = np.concat([a, None, a, a], axis=1)\n",
    "d = np.concat([c, c, c], axis=0)\n",
    "d"
   ]
  },
  {
   "cell_type": "code",
   "execution_count": 24,
   "metadata": {},
   "outputs": [
    {
     "data": {
      "text/plain": [
       "'2024-07-18 23:20:48 '"
      ]
     },
     "execution_count": 24,
     "metadata": {},
     "output_type": "execute_result"
    }
   ],
   "source": [
    "import time\n",
    "from datetime import datetime\n",
    "\n",
    "now = datetime.now()\n",
    "formatted_now = now.strftime(\"%Y-%m-%d %H:%M:%S %Z%z\")\n",
    "formatted_now"
   ]
  },
  {
   "cell_type": "code",
   "execution_count": 3,
   "metadata": {},
   "outputs": [
    {
     "ename": "ModuleNotFoundError",
     "evalue": "No module named 'tqdm'",
     "output_type": "error",
     "traceback": [
      "\u001b[0;31m---------------------------------------------------------------------------\u001b[0m",
      "\u001b[0;31mModuleNotFoundError\u001b[0m                       Traceback (most recent call last)",
      "Cell \u001b[0;32mIn[3], line 1\u001b[0m\n\u001b[0;32m----> 1\u001b[0m \u001b[38;5;28;01mimport\u001b[39;00m \u001b[38;5;21;01mtqdm\u001b[39;00m\n",
      "\u001b[0;31mModuleNotFoundError\u001b[0m: No module named 'tqdm'"
     ]
    }
   ],
   "source": [
    "import tqdm"
   ]
  },
  {
   "cell_type": "code",
   "execution_count": null,
   "metadata": {},
   "outputs": [],
   "source": []
  }
 ],
 "metadata": {
  "kernelspec": {
   "display_name": ".venv",
   "language": "python",
   "name": "python3"
  },
  "language_info": {
   "codemirror_mode": {
    "name": "ipython",
    "version": 3
   },
   "file_extension": ".py",
   "mimetype": "text/x-python",
   "name": "python",
   "nbconvert_exporter": "python",
   "pygments_lexer": "ipython3",
   "version": "3.11.7"
  }
 },
 "nbformat": 4,
 "nbformat_minor": 2
}
